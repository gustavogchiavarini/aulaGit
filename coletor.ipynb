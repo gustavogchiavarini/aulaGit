{
 "cells": [
  {
   "cell_type": "code",
   "execution_count": 29,
   "metadata": {},
   "outputs": [],
   "source": [
    "import sqlalchemy \n",
    "import selenium \n",
    "import pandas as pd\n",
    "from selenium import webdriver\n",
    "from selenium.webdriver.common.by import By\n",
    "from selenium.webdriver.support.ui import WebDriverWait\n",
    "from selenium.webdriver.support import expected_conditions as EC\n",
    "from sqlalchemy import create_engine, Column, Integer, String, Sequence\n",
    "from sqlalchemy.ext.declarative import declarative_base\n",
    "from sqlalchemy.orm import sessionmaker\n",
    "from sqlalchemy import create_engine \n"
   ]
  },
  {
   "cell_type": "code",
   "execution_count": 30,
   "metadata": {},
   "outputs": [
    {
     "name": "stdout",
     "output_type": "stream",
     "text": [
      "Defaulting to user installation because normal site-packages is not writeable\n",
      "Requirement already satisfied: sqlalchemy in c:\\users\\user\\appdata\\local\\packages\\pythonsoftwarefoundation.python.3.12_qbz5n2kfra8p0\\localcache\\local-packages\\python312\\site-packages (2.0.36)\n",
      "Requirement already satisfied: typing-extensions>=4.6.0 in c:\\users\\user\\appdata\\local\\packages\\pythonsoftwarefoundation.python.3.12_qbz5n2kfra8p0\\localcache\\local-packages\\python312\\site-packages (from sqlalchemy) (4.12.2)\n",
      "Requirement already satisfied: greenlet!=0.4.17 in c:\\users\\user\\appdata\\local\\packages\\pythonsoftwarefoundation.python.3.12_qbz5n2kfra8p0\\localcache\\local-packages\\python312\\site-packages (from sqlalchemy) (3.1.1)\n"
     ]
    },
    {
     "name": "stderr",
     "output_type": "stream",
     "text": [
      "\n",
      "[notice] A new release of pip is available: 24.2 -> 24.3.1\n",
      "[notice] To update, run: C:\\Users\\User\\AppData\\Local\\Microsoft\\WindowsApps\\PythonSoftwareFoundation.Python.3.12_qbz5n2kfra8p0\\python.exe -m pip install --upgrade pip\n"
     ]
    }
   ],
   "source": [
    "!pip install sqlalchemy\n"
   ]
  },
  {
   "cell_type": "code",
   "execution_count": 31,
   "metadata": {},
   "outputs": [],
   "source": [
    "navegador = webdriver.Chrome()"
   ]
  },
  {
   "cell_type": "code",
   "execution_count": 32,
   "metadata": {},
   "outputs": [
    {
     "ename": "KeyboardInterrupt",
     "evalue": "",
     "output_type": "error",
     "traceback": [
      "\u001b[1;31m---------------------------------------------------------------------------\u001b[0m",
      "\u001b[1;31mKeyboardInterrupt\u001b[0m                         Traceback (most recent call last)",
      "Cell \u001b[1;32mIn[32], line 1\u001b[0m\n\u001b[1;32m----> 1\u001b[0m \u001b[43mnavegador\u001b[49m\u001b[38;5;241;43m.\u001b[39;49m\u001b[43mget\u001b[49m\u001b[43m(\u001b[49m\u001b[38;5;124;43m'\u001b[39;49m\u001b[38;5;124;43mhttps://www.magazineluiza.com.br/casa-inteligente/l/ci/\u001b[39;49m\u001b[38;5;124;43m'\u001b[39;49m\u001b[43m)\u001b[49m\n",
      "File \u001b[1;32m~\\AppData\\Local\\Packages\\PythonSoftwareFoundation.Python.3.12_qbz5n2kfra8p0\\LocalCache\\local-packages\\Python312\\site-packages\\selenium\\webdriver\\remote\\webdriver.py:389\u001b[0m, in \u001b[0;36mWebDriver.get\u001b[1;34m(self, url)\u001b[0m\n\u001b[0;32m    387\u001b[0m \u001b[38;5;28;01mdef\u001b[39;00m \u001b[38;5;21mget\u001b[39m(\u001b[38;5;28mself\u001b[39m, url: \u001b[38;5;28mstr\u001b[39m) \u001b[38;5;241m-\u001b[39m\u001b[38;5;241m>\u001b[39m \u001b[38;5;28;01mNone\u001b[39;00m:\n\u001b[0;32m    388\u001b[0m \u001b[38;5;250m    \u001b[39m\u001b[38;5;124;03m\"\"\"Loads a web page in the current browser session.\"\"\"\u001b[39;00m\n\u001b[1;32m--> 389\u001b[0m     \u001b[38;5;28;43mself\u001b[39;49m\u001b[38;5;241;43m.\u001b[39;49m\u001b[43mexecute\u001b[49m\u001b[43m(\u001b[49m\u001b[43mCommand\u001b[49m\u001b[38;5;241;43m.\u001b[39;49m\u001b[43mGET\u001b[49m\u001b[43m,\u001b[49m\u001b[43m \u001b[49m\u001b[43m{\u001b[49m\u001b[38;5;124;43m\"\u001b[39;49m\u001b[38;5;124;43murl\u001b[39;49m\u001b[38;5;124;43m\"\u001b[39;49m\u001b[43m:\u001b[49m\u001b[43m \u001b[49m\u001b[43murl\u001b[49m\u001b[43m}\u001b[49m\u001b[43m)\u001b[49m\n",
      "File \u001b[1;32m~\\AppData\\Local\\Packages\\PythonSoftwareFoundation.Python.3.12_qbz5n2kfra8p0\\LocalCache\\local-packages\\Python312\\site-packages\\selenium\\webdriver\\remote\\webdriver.py:378\u001b[0m, in \u001b[0;36mWebDriver.execute\u001b[1;34m(self, driver_command, params)\u001b[0m\n\u001b[0;32m    375\u001b[0m     \u001b[38;5;28;01melif\u001b[39;00m \u001b[38;5;124m\"\u001b[39m\u001b[38;5;124msessionId\u001b[39m\u001b[38;5;124m\"\u001b[39m \u001b[38;5;129;01mnot\u001b[39;00m \u001b[38;5;129;01min\u001b[39;00m params:\n\u001b[0;32m    376\u001b[0m         params[\u001b[38;5;124m\"\u001b[39m\u001b[38;5;124msessionId\u001b[39m\u001b[38;5;124m\"\u001b[39m] \u001b[38;5;241m=\u001b[39m \u001b[38;5;28mself\u001b[39m\u001b[38;5;241m.\u001b[39msession_id\n\u001b[1;32m--> 378\u001b[0m response \u001b[38;5;241m=\u001b[39m \u001b[38;5;28;43mself\u001b[39;49m\u001b[38;5;241;43m.\u001b[39;49m\u001b[43mcommand_executor\u001b[49m\u001b[38;5;241;43m.\u001b[39;49m\u001b[43mexecute\u001b[49m\u001b[43m(\u001b[49m\u001b[43mdriver_command\u001b[49m\u001b[43m,\u001b[49m\u001b[43m \u001b[49m\u001b[43mparams\u001b[49m\u001b[43m)\u001b[49m\n\u001b[0;32m    379\u001b[0m \u001b[38;5;28;01mif\u001b[39;00m response:\n\u001b[0;32m    380\u001b[0m     \u001b[38;5;28mself\u001b[39m\u001b[38;5;241m.\u001b[39merror_handler\u001b[38;5;241m.\u001b[39mcheck_response(response)\n",
      "File \u001b[1;32m~\\AppData\\Local\\Packages\\PythonSoftwareFoundation.Python.3.12_qbz5n2kfra8p0\\LocalCache\\local-packages\\Python312\\site-packages\\selenium\\webdriver\\remote\\remote_connection.py:391\u001b[0m, in \u001b[0;36mRemoteConnection.execute\u001b[1;34m(self, command, params)\u001b[0m\n\u001b[0;32m    389\u001b[0m trimmed \u001b[38;5;241m=\u001b[39m \u001b[38;5;28mself\u001b[39m\u001b[38;5;241m.\u001b[39m_trim_large_entries(params)\n\u001b[0;32m    390\u001b[0m LOGGER\u001b[38;5;241m.\u001b[39mdebug(\u001b[38;5;124m\"\u001b[39m\u001b[38;5;132;01m%s\u001b[39;00m\u001b[38;5;124m \u001b[39m\u001b[38;5;132;01m%s\u001b[39;00m\u001b[38;5;124m \u001b[39m\u001b[38;5;132;01m%s\u001b[39;00m\u001b[38;5;124m\"\u001b[39m, command_info[\u001b[38;5;241m0\u001b[39m], url, \u001b[38;5;28mstr\u001b[39m(trimmed))\n\u001b[1;32m--> 391\u001b[0m \u001b[38;5;28;01mreturn\u001b[39;00m \u001b[38;5;28;43mself\u001b[39;49m\u001b[38;5;241;43m.\u001b[39;49m\u001b[43m_request\u001b[49m\u001b[43m(\u001b[49m\u001b[43mcommand_info\u001b[49m\u001b[43m[\u001b[49m\u001b[38;5;241;43m0\u001b[39;49m\u001b[43m]\u001b[49m\u001b[43m,\u001b[49m\u001b[43m \u001b[49m\u001b[43murl\u001b[49m\u001b[43m,\u001b[49m\u001b[43m \u001b[49m\u001b[43mbody\u001b[49m\u001b[38;5;241;43m=\u001b[39;49m\u001b[43mdata\u001b[49m\u001b[43m)\u001b[49m\n",
      "File \u001b[1;32m~\\AppData\\Local\\Packages\\PythonSoftwareFoundation.Python.3.12_qbz5n2kfra8p0\\LocalCache\\local-packages\\Python312\\site-packages\\selenium\\webdriver\\remote\\remote_connection.py:415\u001b[0m, in \u001b[0;36mRemoteConnection._request\u001b[1;34m(self, method, url, body)\u001b[0m\n\u001b[0;32m    412\u001b[0m     body \u001b[38;5;241m=\u001b[39m \u001b[38;5;28;01mNone\u001b[39;00m\n\u001b[0;32m    414\u001b[0m \u001b[38;5;28;01mif\u001b[39;00m \u001b[38;5;28mself\u001b[39m\u001b[38;5;241m.\u001b[39m_client_config\u001b[38;5;241m.\u001b[39mkeep_alive:\n\u001b[1;32m--> 415\u001b[0m     response \u001b[38;5;241m=\u001b[39m \u001b[38;5;28;43mself\u001b[39;49m\u001b[38;5;241;43m.\u001b[39;49m\u001b[43m_conn\u001b[49m\u001b[38;5;241;43m.\u001b[39;49m\u001b[43mrequest\u001b[49m\u001b[43m(\u001b[49m\u001b[43mmethod\u001b[49m\u001b[43m,\u001b[49m\u001b[43m \u001b[49m\u001b[43murl\u001b[49m\u001b[43m,\u001b[49m\u001b[43m \u001b[49m\u001b[43mbody\u001b[49m\u001b[38;5;241;43m=\u001b[39;49m\u001b[43mbody\u001b[49m\u001b[43m,\u001b[49m\u001b[43m \u001b[49m\u001b[43mheaders\u001b[49m\u001b[38;5;241;43m=\u001b[39;49m\u001b[43mheaders\u001b[49m\u001b[43m,\u001b[49m\u001b[43m \u001b[49m\u001b[43mtimeout\u001b[49m\u001b[38;5;241;43m=\u001b[39;49m\u001b[38;5;28;43mself\u001b[39;49m\u001b[38;5;241;43m.\u001b[39;49m\u001b[43m_client_config\u001b[49m\u001b[38;5;241;43m.\u001b[39;49m\u001b[43mtimeout\u001b[49m\u001b[43m)\u001b[49m\n\u001b[0;32m    416\u001b[0m     statuscode \u001b[38;5;241m=\u001b[39m response\u001b[38;5;241m.\u001b[39mstatus\n\u001b[0;32m    417\u001b[0m \u001b[38;5;28;01melse\u001b[39;00m:\n",
      "File \u001b[1;32m~\\AppData\\Local\\Packages\\PythonSoftwareFoundation.Python.3.12_qbz5n2kfra8p0\\LocalCache\\local-packages\\Python312\\site-packages\\urllib3\\_request_methods.py:143\u001b[0m, in \u001b[0;36mRequestMethods.request\u001b[1;34m(self, method, url, body, fields, headers, json, **urlopen_kw)\u001b[0m\n\u001b[0;32m    135\u001b[0m     \u001b[38;5;28;01mreturn\u001b[39;00m \u001b[38;5;28mself\u001b[39m\u001b[38;5;241m.\u001b[39mrequest_encode_url(\n\u001b[0;32m    136\u001b[0m         method,\n\u001b[0;32m    137\u001b[0m         url,\n\u001b[1;32m   (...)\u001b[0m\n\u001b[0;32m    140\u001b[0m         \u001b[38;5;241m*\u001b[39m\u001b[38;5;241m*\u001b[39murlopen_kw,\n\u001b[0;32m    141\u001b[0m     )\n\u001b[0;32m    142\u001b[0m \u001b[38;5;28;01melse\u001b[39;00m:\n\u001b[1;32m--> 143\u001b[0m     \u001b[38;5;28;01mreturn\u001b[39;00m \u001b[38;5;28;43mself\u001b[39;49m\u001b[38;5;241;43m.\u001b[39;49m\u001b[43mrequest_encode_body\u001b[49m\u001b[43m(\u001b[49m\n\u001b[0;32m    144\u001b[0m \u001b[43m        \u001b[49m\u001b[43mmethod\u001b[49m\u001b[43m,\u001b[49m\u001b[43m \u001b[49m\u001b[43murl\u001b[49m\u001b[43m,\u001b[49m\u001b[43m \u001b[49m\u001b[43mfields\u001b[49m\u001b[38;5;241;43m=\u001b[39;49m\u001b[43mfields\u001b[49m\u001b[43m,\u001b[49m\u001b[43m \u001b[49m\u001b[43mheaders\u001b[49m\u001b[38;5;241;43m=\u001b[39;49m\u001b[43mheaders\u001b[49m\u001b[43m,\u001b[49m\u001b[43m \u001b[49m\u001b[38;5;241;43m*\u001b[39;49m\u001b[38;5;241;43m*\u001b[39;49m\u001b[43murlopen_kw\u001b[49m\n\u001b[0;32m    145\u001b[0m \u001b[43m    \u001b[49m\u001b[43m)\u001b[49m\n",
      "File \u001b[1;32m~\\AppData\\Local\\Packages\\PythonSoftwareFoundation.Python.3.12_qbz5n2kfra8p0\\LocalCache\\local-packages\\Python312\\site-packages\\urllib3\\_request_methods.py:278\u001b[0m, in \u001b[0;36mRequestMethods.request_encode_body\u001b[1;34m(self, method, url, fields, headers, encode_multipart, multipart_boundary, **urlopen_kw)\u001b[0m\n\u001b[0;32m    274\u001b[0m     extra_kw[\u001b[38;5;124m\"\u001b[39m\u001b[38;5;124mheaders\u001b[39m\u001b[38;5;124m\"\u001b[39m]\u001b[38;5;241m.\u001b[39msetdefault(\u001b[38;5;124m\"\u001b[39m\u001b[38;5;124mContent-Type\u001b[39m\u001b[38;5;124m\"\u001b[39m, content_type)\n\u001b[0;32m    276\u001b[0m extra_kw\u001b[38;5;241m.\u001b[39mupdate(urlopen_kw)\n\u001b[1;32m--> 278\u001b[0m \u001b[38;5;28;01mreturn\u001b[39;00m \u001b[38;5;28;43mself\u001b[39;49m\u001b[38;5;241;43m.\u001b[39;49m\u001b[43murlopen\u001b[49m\u001b[43m(\u001b[49m\u001b[43mmethod\u001b[49m\u001b[43m,\u001b[49m\u001b[43m \u001b[49m\u001b[43murl\u001b[49m\u001b[43m,\u001b[49m\u001b[43m \u001b[49m\u001b[38;5;241;43m*\u001b[39;49m\u001b[38;5;241;43m*\u001b[39;49m\u001b[43mextra_kw\u001b[49m\u001b[43m)\u001b[49m\n",
      "File \u001b[1;32m~\\AppData\\Local\\Packages\\PythonSoftwareFoundation.Python.3.12_qbz5n2kfra8p0\\LocalCache\\local-packages\\Python312\\site-packages\\urllib3\\poolmanager.py:443\u001b[0m, in \u001b[0;36mPoolManager.urlopen\u001b[1;34m(self, method, url, redirect, **kw)\u001b[0m\n\u001b[0;32m    441\u001b[0m     response \u001b[38;5;241m=\u001b[39m conn\u001b[38;5;241m.\u001b[39murlopen(method, url, \u001b[38;5;241m*\u001b[39m\u001b[38;5;241m*\u001b[39mkw)\n\u001b[0;32m    442\u001b[0m \u001b[38;5;28;01melse\u001b[39;00m:\n\u001b[1;32m--> 443\u001b[0m     response \u001b[38;5;241m=\u001b[39m \u001b[43mconn\u001b[49m\u001b[38;5;241;43m.\u001b[39;49m\u001b[43murlopen\u001b[49m\u001b[43m(\u001b[49m\u001b[43mmethod\u001b[49m\u001b[43m,\u001b[49m\u001b[43m \u001b[49m\u001b[43mu\u001b[49m\u001b[38;5;241;43m.\u001b[39;49m\u001b[43mrequest_uri\u001b[49m\u001b[43m,\u001b[49m\u001b[43m \u001b[49m\u001b[38;5;241;43m*\u001b[39;49m\u001b[38;5;241;43m*\u001b[39;49m\u001b[43mkw\u001b[49m\u001b[43m)\u001b[49m\n\u001b[0;32m    445\u001b[0m redirect_location \u001b[38;5;241m=\u001b[39m redirect \u001b[38;5;129;01mand\u001b[39;00m response\u001b[38;5;241m.\u001b[39mget_redirect_location()\n\u001b[0;32m    446\u001b[0m \u001b[38;5;28;01mif\u001b[39;00m \u001b[38;5;129;01mnot\u001b[39;00m redirect_location:\n",
      "File \u001b[1;32m~\\AppData\\Local\\Packages\\PythonSoftwareFoundation.Python.3.12_qbz5n2kfra8p0\\LocalCache\\local-packages\\Python312\\site-packages\\urllib3\\connectionpool.py:789\u001b[0m, in \u001b[0;36mHTTPConnectionPool.urlopen\u001b[1;34m(self, method, url, body, headers, retries, redirect, assert_same_host, timeout, pool_timeout, release_conn, chunked, body_pos, preload_content, decode_content, **response_kw)\u001b[0m\n\u001b[0;32m    786\u001b[0m response_conn \u001b[38;5;241m=\u001b[39m conn \u001b[38;5;28;01mif\u001b[39;00m \u001b[38;5;129;01mnot\u001b[39;00m release_conn \u001b[38;5;28;01melse\u001b[39;00m \u001b[38;5;28;01mNone\u001b[39;00m\n\u001b[0;32m    788\u001b[0m \u001b[38;5;66;03m# Make the request on the HTTPConnection object\u001b[39;00m\n\u001b[1;32m--> 789\u001b[0m response \u001b[38;5;241m=\u001b[39m \u001b[38;5;28;43mself\u001b[39;49m\u001b[38;5;241;43m.\u001b[39;49m\u001b[43m_make_request\u001b[49m\u001b[43m(\u001b[49m\n\u001b[0;32m    790\u001b[0m \u001b[43m    \u001b[49m\u001b[43mconn\u001b[49m\u001b[43m,\u001b[49m\n\u001b[0;32m    791\u001b[0m \u001b[43m    \u001b[49m\u001b[43mmethod\u001b[49m\u001b[43m,\u001b[49m\n\u001b[0;32m    792\u001b[0m \u001b[43m    \u001b[49m\u001b[43murl\u001b[49m\u001b[43m,\u001b[49m\n\u001b[0;32m    793\u001b[0m \u001b[43m    \u001b[49m\u001b[43mtimeout\u001b[49m\u001b[38;5;241;43m=\u001b[39;49m\u001b[43mtimeout_obj\u001b[49m\u001b[43m,\u001b[49m\n\u001b[0;32m    794\u001b[0m \u001b[43m    \u001b[49m\u001b[43mbody\u001b[49m\u001b[38;5;241;43m=\u001b[39;49m\u001b[43mbody\u001b[49m\u001b[43m,\u001b[49m\n\u001b[0;32m    795\u001b[0m \u001b[43m    \u001b[49m\u001b[43mheaders\u001b[49m\u001b[38;5;241;43m=\u001b[39;49m\u001b[43mheaders\u001b[49m\u001b[43m,\u001b[49m\n\u001b[0;32m    796\u001b[0m \u001b[43m    \u001b[49m\u001b[43mchunked\u001b[49m\u001b[38;5;241;43m=\u001b[39;49m\u001b[43mchunked\u001b[49m\u001b[43m,\u001b[49m\n\u001b[0;32m    797\u001b[0m \u001b[43m    \u001b[49m\u001b[43mretries\u001b[49m\u001b[38;5;241;43m=\u001b[39;49m\u001b[43mretries\u001b[49m\u001b[43m,\u001b[49m\n\u001b[0;32m    798\u001b[0m \u001b[43m    \u001b[49m\u001b[43mresponse_conn\u001b[49m\u001b[38;5;241;43m=\u001b[39;49m\u001b[43mresponse_conn\u001b[49m\u001b[43m,\u001b[49m\n\u001b[0;32m    799\u001b[0m \u001b[43m    \u001b[49m\u001b[43mpreload_content\u001b[49m\u001b[38;5;241;43m=\u001b[39;49m\u001b[43mpreload_content\u001b[49m\u001b[43m,\u001b[49m\n\u001b[0;32m    800\u001b[0m \u001b[43m    \u001b[49m\u001b[43mdecode_content\u001b[49m\u001b[38;5;241;43m=\u001b[39;49m\u001b[43mdecode_content\u001b[49m\u001b[43m,\u001b[49m\n\u001b[0;32m    801\u001b[0m \u001b[43m    \u001b[49m\u001b[38;5;241;43m*\u001b[39;49m\u001b[38;5;241;43m*\u001b[39;49m\u001b[43mresponse_kw\u001b[49m\u001b[43m,\u001b[49m\n\u001b[0;32m    802\u001b[0m \u001b[43m\u001b[49m\u001b[43m)\u001b[49m\n\u001b[0;32m    804\u001b[0m \u001b[38;5;66;03m# Everything went great!\u001b[39;00m\n\u001b[0;32m    805\u001b[0m clean_exit \u001b[38;5;241m=\u001b[39m \u001b[38;5;28;01mTrue\u001b[39;00m\n",
      "File \u001b[1;32m~\\AppData\\Local\\Packages\\PythonSoftwareFoundation.Python.3.12_qbz5n2kfra8p0\\LocalCache\\local-packages\\Python312\\site-packages\\urllib3\\connectionpool.py:536\u001b[0m, in \u001b[0;36mHTTPConnectionPool._make_request\u001b[1;34m(self, conn, method, url, body, headers, retries, timeout, chunked, response_conn, preload_content, decode_content, enforce_content_length)\u001b[0m\n\u001b[0;32m    534\u001b[0m \u001b[38;5;66;03m# Receive the response from the server\u001b[39;00m\n\u001b[0;32m    535\u001b[0m \u001b[38;5;28;01mtry\u001b[39;00m:\n\u001b[1;32m--> 536\u001b[0m     response \u001b[38;5;241m=\u001b[39m \u001b[43mconn\u001b[49m\u001b[38;5;241;43m.\u001b[39;49m\u001b[43mgetresponse\u001b[49m\u001b[43m(\u001b[49m\u001b[43m)\u001b[49m\n\u001b[0;32m    537\u001b[0m \u001b[38;5;28;01mexcept\u001b[39;00m (BaseSSLError, \u001b[38;5;167;01mOSError\u001b[39;00m) \u001b[38;5;28;01mas\u001b[39;00m e:\n\u001b[0;32m    538\u001b[0m     \u001b[38;5;28mself\u001b[39m\u001b[38;5;241m.\u001b[39m_raise_timeout(err\u001b[38;5;241m=\u001b[39me, url\u001b[38;5;241m=\u001b[39murl, timeout_value\u001b[38;5;241m=\u001b[39mread_timeout)\n",
      "File \u001b[1;32m~\\AppData\\Local\\Packages\\PythonSoftwareFoundation.Python.3.12_qbz5n2kfra8p0\\LocalCache\\local-packages\\Python312\\site-packages\\urllib3\\connection.py:507\u001b[0m, in \u001b[0;36mHTTPConnection.getresponse\u001b[1;34m(self)\u001b[0m\n\u001b[0;32m    504\u001b[0m \u001b[38;5;28;01mfrom\u001b[39;00m \u001b[38;5;21;01m.\u001b[39;00m\u001b[38;5;21;01mresponse\u001b[39;00m \u001b[38;5;28;01mimport\u001b[39;00m HTTPResponse\n\u001b[0;32m    506\u001b[0m \u001b[38;5;66;03m# Get the response from http.client.HTTPConnection\u001b[39;00m\n\u001b[1;32m--> 507\u001b[0m httplib_response \u001b[38;5;241m=\u001b[39m \u001b[38;5;28;43msuper\u001b[39;49m\u001b[43m(\u001b[49m\u001b[43m)\u001b[49m\u001b[38;5;241;43m.\u001b[39;49m\u001b[43mgetresponse\u001b[49m\u001b[43m(\u001b[49m\u001b[43m)\u001b[49m\n\u001b[0;32m    509\u001b[0m \u001b[38;5;28;01mtry\u001b[39;00m:\n\u001b[0;32m    510\u001b[0m     assert_header_parsing(httplib_response\u001b[38;5;241m.\u001b[39mmsg)\n",
      "File \u001b[1;32mC:\\Program Files\\WindowsApps\\PythonSoftwareFoundation.Python.3.12_3.12.2032.0_x64__qbz5n2kfra8p0\\Lib\\http\\client.py:1428\u001b[0m, in \u001b[0;36mHTTPConnection.getresponse\u001b[1;34m(self)\u001b[0m\n\u001b[0;32m   1426\u001b[0m \u001b[38;5;28;01mtry\u001b[39;00m:\n\u001b[0;32m   1427\u001b[0m     \u001b[38;5;28;01mtry\u001b[39;00m:\n\u001b[1;32m-> 1428\u001b[0m         \u001b[43mresponse\u001b[49m\u001b[38;5;241;43m.\u001b[39;49m\u001b[43mbegin\u001b[49m\u001b[43m(\u001b[49m\u001b[43m)\u001b[49m\n\u001b[0;32m   1429\u001b[0m     \u001b[38;5;28;01mexcept\u001b[39;00m \u001b[38;5;167;01mConnectionError\u001b[39;00m:\n\u001b[0;32m   1430\u001b[0m         \u001b[38;5;28mself\u001b[39m\u001b[38;5;241m.\u001b[39mclose()\n",
      "File \u001b[1;32mC:\\Program Files\\WindowsApps\\PythonSoftwareFoundation.Python.3.12_3.12.2032.0_x64__qbz5n2kfra8p0\\Lib\\http\\client.py:331\u001b[0m, in \u001b[0;36mHTTPResponse.begin\u001b[1;34m(self)\u001b[0m\n\u001b[0;32m    329\u001b[0m \u001b[38;5;66;03m# read until we get a non-100 response\u001b[39;00m\n\u001b[0;32m    330\u001b[0m \u001b[38;5;28;01mwhile\u001b[39;00m \u001b[38;5;28;01mTrue\u001b[39;00m:\n\u001b[1;32m--> 331\u001b[0m     version, status, reason \u001b[38;5;241m=\u001b[39m \u001b[38;5;28;43mself\u001b[39;49m\u001b[38;5;241;43m.\u001b[39;49m\u001b[43m_read_status\u001b[49m\u001b[43m(\u001b[49m\u001b[43m)\u001b[49m\n\u001b[0;32m    332\u001b[0m     \u001b[38;5;28;01mif\u001b[39;00m status \u001b[38;5;241m!=\u001b[39m CONTINUE:\n\u001b[0;32m    333\u001b[0m         \u001b[38;5;28;01mbreak\u001b[39;00m\n",
      "File \u001b[1;32mC:\\Program Files\\WindowsApps\\PythonSoftwareFoundation.Python.3.12_3.12.2032.0_x64__qbz5n2kfra8p0\\Lib\\http\\client.py:292\u001b[0m, in \u001b[0;36mHTTPResponse._read_status\u001b[1;34m(self)\u001b[0m\n\u001b[0;32m    291\u001b[0m \u001b[38;5;28;01mdef\u001b[39;00m \u001b[38;5;21m_read_status\u001b[39m(\u001b[38;5;28mself\u001b[39m):\n\u001b[1;32m--> 292\u001b[0m     line \u001b[38;5;241m=\u001b[39m \u001b[38;5;28mstr\u001b[39m(\u001b[38;5;28;43mself\u001b[39;49m\u001b[38;5;241;43m.\u001b[39;49m\u001b[43mfp\u001b[49m\u001b[38;5;241;43m.\u001b[39;49m\u001b[43mreadline\u001b[49m\u001b[43m(\u001b[49m\u001b[43m_MAXLINE\u001b[49m\u001b[43m \u001b[49m\u001b[38;5;241;43m+\u001b[39;49m\u001b[43m \u001b[49m\u001b[38;5;241;43m1\u001b[39;49m\u001b[43m)\u001b[49m, \u001b[38;5;124m\"\u001b[39m\u001b[38;5;124miso-8859-1\u001b[39m\u001b[38;5;124m\"\u001b[39m)\n\u001b[0;32m    293\u001b[0m     \u001b[38;5;28;01mif\u001b[39;00m \u001b[38;5;28mlen\u001b[39m(line) \u001b[38;5;241m>\u001b[39m _MAXLINE:\n\u001b[0;32m    294\u001b[0m         \u001b[38;5;28;01mraise\u001b[39;00m LineTooLong(\u001b[38;5;124m\"\u001b[39m\u001b[38;5;124mstatus line\u001b[39m\u001b[38;5;124m\"\u001b[39m)\n",
      "File \u001b[1;32mC:\\Program Files\\WindowsApps\\PythonSoftwareFoundation.Python.3.12_3.12.2032.0_x64__qbz5n2kfra8p0\\Lib\\socket.py:720\u001b[0m, in \u001b[0;36mSocketIO.readinto\u001b[1;34m(self, b)\u001b[0m\n\u001b[0;32m    718\u001b[0m \u001b[38;5;28;01mwhile\u001b[39;00m \u001b[38;5;28;01mTrue\u001b[39;00m:\n\u001b[0;32m    719\u001b[0m     \u001b[38;5;28;01mtry\u001b[39;00m:\n\u001b[1;32m--> 720\u001b[0m         \u001b[38;5;28;01mreturn\u001b[39;00m \u001b[38;5;28;43mself\u001b[39;49m\u001b[38;5;241;43m.\u001b[39;49m\u001b[43m_sock\u001b[49m\u001b[38;5;241;43m.\u001b[39;49m\u001b[43mrecv_into\u001b[49m\u001b[43m(\u001b[49m\u001b[43mb\u001b[49m\u001b[43m)\u001b[49m\n\u001b[0;32m    721\u001b[0m     \u001b[38;5;28;01mexcept\u001b[39;00m timeout:\n\u001b[0;32m    722\u001b[0m         \u001b[38;5;28mself\u001b[39m\u001b[38;5;241m.\u001b[39m_timeout_occurred \u001b[38;5;241m=\u001b[39m \u001b[38;5;28;01mTrue\u001b[39;00m\n",
      "\u001b[1;31mKeyboardInterrupt\u001b[0m: "
     ]
    }
   ],
   "source": [
    "navegador.get('https://www.magazineluiza.com.br/casa-inteligente/l/ci/')"
   ]
  },
  {
   "cell_type": "code",
   "execution_count": 4,
   "metadata": {},
   "outputs": [],
   "source": [
    "navegador.maximize_window()"
   ]
  },
  {
   "cell_type": "code",
   "execution_count": 33,
   "metadata": {},
   "outputs": [],
   "source": [
    "nome ='//*[@id=\"__next\"]/div/main/section[4]/div[3]/div/ul/li[1]/a/div[3]/h2' \n",
    "\n",
    "\n",
    "#'//*[@id=\"__next\"]/div/main/section[4]/div[4]/div/ul/li[1]/a/div[3]/h2'"
   ]
  },
  {
   "cell_type": "code",
   "execution_count": 34,
   "metadata": {},
   "outputs": [
    {
     "data": {
      "text/plain": [
       "'Echo Dot 5ª Geração Smart Speaker com Alexa'"
      ]
     },
     "execution_count": 34,
     "metadata": {},
     "output_type": "execute_result"
    }
   ],
   "source": [
    "navegador.find_element(By.XPATH, nome).text"
   ]
  },
  {
   "cell_type": "code",
   "execution_count": 35,
   "metadata": {},
   "outputs": [
    {
     "data": {
      "text/plain": [
       "'R$ 519,00'"
      ]
     },
     "execution_count": 35,
     "metadata": {},
     "output_type": "execute_result"
    }
   ],
   "source": [
    "preco = '//*[@id=\"__next\"]/div/main/section[4]/div[3]/div/ul/li[1]/a/div[3]/div[3]/div/p[1]'\n",
    "navegador.find_element(By.XPATH, preco).text\n",
    "\n",
    "#'//*[@id=\"__next\"]/div/main/section[4]/div[4]/div/ul/li[1]/a/div[3]/div[3]/div/div/p'"
   ]
  },
  {
   "cell_type": "code",
   "execution_count": 36,
   "metadata": {},
   "outputs": [
    {
     "data": {
      "text/plain": [
       "'Echo Pop Compacto Smart Speaker com Alexa'"
      ]
     },
     "execution_count": 36,
     "metadata": {},
     "output_type": "execute_result"
    }
   ],
   "source": [
    "nome2 = '//*[@id=\"__next\"]/div/main/section[4]/div[3]/div/ul/li[2]/a/div[3]/h2'\n",
    "#'//*[@id=\"__next\"]/div/main/section[4]/div[4]/div/ul/li[2]/a/div[3]/h2'\n",
    "navegador.find_element(By.XPATH, nome2).text"
   ]
  },
  {
   "cell_type": "code",
   "execution_count": 37,
   "metadata": {},
   "outputs": [
    {
     "data": {
      "text/plain": [
       "'ou R$ 208,05'"
      ]
     },
     "execution_count": 37,
     "metadata": {},
     "output_type": "execute_result"
    }
   ],
   "source": [
    "preco2 = '//*[@id=\"__next\"]/div/main/section[4]/div[3]/div/ul/li[2]/a/div[3]/div[3]/div/div/p'\n",
    "#'//*[@id=\"__next\"]/div/main/section[4]/div[4]/div/ul/li[2]/a/div[3]/div[3]/div/div/p'\n",
    "navegador.find_element(By.XPATH, preco2).text"
   ]
  },
  {
   "cell_type": "code",
   "execution_count": null,
   "metadata": {},
   "outputs": [],
   "source": [
    "\n"
   ]
  },
  {
   "cell_type": "code",
   "execution_count": 38,
   "metadata": {},
   "outputs": [
    {
     "data": {
      "text/plain": [
       "'Echo Dot 5ª geração Amazon, com Alexa, Smart Speaker, Preto - B09B8VGCR8'"
      ]
     },
     "execution_count": 38,
     "metadata": {},
     "output_type": "execute_result"
    }
   ],
   "source": [
    "nome3 = '//*[@id=\"__next\"]/div/main/section[4]/div[3]/div/ul/li[3]/a/div[3]/h2'\n",
    "navegador.find_element(By.XPATH, nome3).text"
   ]
  },
  {
   "cell_type": "code",
   "execution_count": 39,
   "metadata": {},
   "outputs": [
    {
     "data": {
      "text/plain": [
       "'ou R$ 404,76'"
      ]
     },
     "execution_count": 39,
     "metadata": {},
     "output_type": "execute_result"
    }
   ],
   "source": [
    "preco3= '//*[@id=\"__next\"]/div/main/section[4]/div[3]/div/ul/li[3]/a/div[3]/div[3]/div/div/p'\n",
    "navegador.find_element(By.XPATH, preco3).text"
   ]
  },
  {
   "cell_type": "code",
   "execution_count": 40,
   "metadata": {},
   "outputs": [
    {
     "name": "stdout",
     "output_type": "stream",
     "text": [
      "Echo Dot 5ª Geração Smart Speaker com Alexa\n",
      "Echo Pop Compacto Smart Speaker com Alexa\n",
      "Echo Dot 5ª geração Amazon, com Alexa, Smart Speaker, Preto - B09B8VGCR8\n",
      "Echo Dot 5ª Geração Smart Speaker com Alexa\n",
      "Echo Pop Amazon, com Alexa, Smart Speaker, Som Envolvente, Preto - B09WXVH7WK\n",
      "Echo Dot 5ª geração Amazon, com Alexa, Smart Speaker, Azul - B09B8QFYZ2\n",
      "Alexa 5ª Geração Echo Dot Smart Speaker alto-falante inteligente com alexa\n",
      "Alexa 5ª Geração Echo Dot Smart Speaker alto-falante inteligente com alexa\n",
      "Alexa 5ª Geração Echo Dot Smart Speaker alto-falante inteligente com alexa\n",
      "Lixeira Automatica Com Sensor de Aproximacao Branca 9l - Ei078\n",
      "Echo Spot 2024 Smart Speaker Tela de 2,83”\n",
      "Echo Pop Smart Speaker Compacto com Alexa\n",
      "Echo Spot 2024 Smart Speaker Tela de 2,83”\n",
      "Echo Pop Compacto Smart Speaker com Alexa\n",
      "Fechadura Digital Eletronica Biometrica Com WiFi App Delta PRO Kuanttum\n",
      "Câmera Interna Inteligente Full HD Wi-Fi Multi - SE241\n",
      "Câmera De Segurança Smart Wi-fi Ip66 Dupla Lente 360 Visão Noturna Externa Prova D' Agua\n",
      "Amazon Alexa Echo Pop Branco\n",
      "Fechadura Eletrônica Digital Touch FR 101 Intelbras\n",
      "Echo Spot Amazon, Com Alexa, Som envolvente, Com Relógio, Smart Speaker, Preto - B0C2RS4ZG6\n",
      "Echo Spot 2024 Smart Speaker Tela de 2,83”\n",
      "Echo Dot 5ª Geração Smart Speaker com Alexa\n",
      "Camera Robo 3 Antenas Ip Wifi 360 1080P\n",
      "Lampada Inteligente Rgb Wifi Led Smart Google Alexa Tuya 9w\n",
      "pAmazon Alexa Echo Pop C2H4R9 Pretobr/p\n",
      "Fechadura Digital Eletronica Com Biometria Touch Senha + Chave Delta Kuanttum\n",
      "Câmera de Segurança Smart Wifi Lampada Led Monitoramento Visão Noturna Remoto Giro 360º\n",
      "Câmera Inteligente Intelbras iM4 Full HD 360º Wi-Fi\n",
      "Câmera Inteligente Intelbras iM3 Full Hd Wifi\n"
     ]
    }
   ],
   "source": [
    "lista_produtos = [] # lista vazia\n",
    "for produto in range(1,30):\n",
    "    try:\n",
    "        print(navegador.find_element(By.XPATH, f'//*[@id=\"__next\"]/div/main/section[4]/div[3]/div/ul/li[{produto}]/a/div[3]/h2').text)\n",
    "        #//*[@id=\"__next\"]/div/main/section[4]/div[4]/div/ul/li[{produto}]/a/div[3]/h2\n",
    "        dado_produto = navegador.find_element(By.XPATH, f'//*[@id=\"__next\"]/div/main/section[4]/div[3]/div/ul/li[{produto}]/a/div[3]/h2').text\n",
    "        lista_produtos.append(dado_produto)\n",
    "    except:\n",
    "        pass"
   ]
  },
  {
   "cell_type": "code",
   "execution_count": 42,
   "metadata": {},
   "outputs": [
    {
     "name": "stdout",
     "output_type": "stream",
     "text": [
      "R$ 519,00\n",
      "R$ 419,00\n",
      "R$ 449,73 em 9x de R$ 49,97 sem juros\n",
      "R$ 519,00\n",
      "R$ 388,88\n",
      "R$ 449,73 em 9x de R$ 49,97 sem juros\n",
      "R$ 469,90\n",
      "R$ 469,90\n",
      "R$ 469,90\n",
      "R$ 189,90\n",
      "R$ 1.098,90\n",
      "R$ 419,00\n",
      "R$ 1.098,90\n",
      "R$ 419,00\n",
      "R$ 499,00\n",
      "R$ 149,90\n",
      "R$ 209,99 em 4x de R$ 52,50 sem juros\n",
      "R$ 359,90\n",
      "R$ 444,00\n",
      "R$ 611,10\n",
      "R$ 1.098,90\n",
      "R$ 519,00\n",
      "R$ 114,90 em 2x de R$ 57,45 sem juros\n",
      "R$ 359,90\n",
      "R$ 429,90\n",
      "R$ 140,50\n",
      "R$ 310,00\n",
      "R$ 299,00\n"
     ]
    }
   ],
   "source": [
    "lista_precos = [] # lista vazia\n",
    "for preco in range(1,30):\n",
    "    try:\n",
    "        print(navegador.find_element(By.XPATH, f'//*[@id=\"__next\"]/div/main/section[4]/div[3]/div/ul/li[{preco}]/a/div[3]/div[3]/div/p[1]').text)\n",
    "        #//*[@id=\"__next\"]/div/main/section[4]/div[4]/div/ul/li[{preco}]/a/div[3]/div[3]/div/div/p\n",
    "        dado_preco = navegador.find_element(By.XPATH, f'//*[@id=\"__next\"]/div/main/section[4]/div[3]/div/ul/li[{preco}]/a/div[3]/div[3]/div/p[1]').text\n",
    "        lista_precos.append(dado_preco)\n",
    "    except:\n",
    "        pass"
   ]
  },
  {
   "cell_type": "code",
   "execution_count": 43,
   "metadata": {},
   "outputs": [
    {
     "data": {
      "text/plain": [
       "['Echo Dot 5ª Geração Smart Speaker com Alexa',\n",
       " 'Echo Pop Compacto Smart Speaker com Alexa',\n",
       " 'Echo Dot 5ª geração Amazon, com Alexa, Smart Speaker, Preto - B09B8VGCR8',\n",
       " 'Echo Dot 5ª Geração Smart Speaker com Alexa',\n",
       " 'Echo Pop Amazon, com Alexa, Smart Speaker, Som Envolvente, Preto - B09WXVH7WK',\n",
       " 'Echo Dot 5ª geração Amazon, com Alexa, Smart Speaker, Azul - B09B8QFYZ2',\n",
       " 'Alexa 5ª Geração Echo Dot Smart Speaker alto-falante inteligente com alexa',\n",
       " 'Alexa 5ª Geração Echo Dot Smart Speaker alto-falante inteligente com alexa',\n",
       " 'Alexa 5ª Geração Echo Dot Smart Speaker alto-falante inteligente com alexa',\n",
       " 'Lixeira Automatica Com Sensor de Aproximacao Branca 9l - Ei078',\n",
       " 'Echo Spot 2024 Smart Speaker Tela de 2,83”',\n",
       " 'Echo Pop Smart Speaker Compacto com Alexa',\n",
       " 'Echo Spot 2024 Smart Speaker Tela de 2,83”',\n",
       " 'Echo Pop Compacto Smart Speaker com Alexa',\n",
       " 'Fechadura Digital Eletronica Biometrica Com WiFi App Delta PRO Kuanttum',\n",
       " 'Câmera Interna Inteligente Full HD Wi-Fi Multi - SE241',\n",
       " \"Câmera De Segurança Smart Wi-fi Ip66 Dupla Lente 360 Visão Noturna Externa Prova D' Agua\",\n",
       " 'Amazon Alexa Echo Pop Branco',\n",
       " 'Fechadura Eletrônica Digital Touch FR 101 Intelbras',\n",
       " 'Echo Spot Amazon, Com Alexa, Som envolvente, Com Relógio, Smart Speaker, Preto - B0C2RS4ZG6',\n",
       " 'Echo Spot 2024 Smart Speaker Tela de 2,83”',\n",
       " 'Echo Dot 5ª Geração Smart Speaker com Alexa',\n",
       " 'Camera Robo 3 Antenas Ip Wifi 360 1080P',\n",
       " 'Lampada Inteligente Rgb Wifi Led Smart Google Alexa Tuya 9w',\n",
       " 'pAmazon Alexa Echo Pop C2H4R9 Pretobr/p',\n",
       " 'Fechadura Digital Eletronica Com Biometria Touch Senha + Chave Delta Kuanttum',\n",
       " 'Câmera de Segurança Smart Wifi Lampada Led Monitoramento Visão Noturna Remoto Giro 360º',\n",
       " 'Câmera Inteligente Intelbras iM4 Full HD 360º Wi-Fi',\n",
       " 'Câmera Inteligente Intelbras iM3 Full Hd Wifi']"
      ]
     },
     "execution_count": 43,
     "metadata": {},
     "output_type": "execute_result"
    }
   ],
   "source": [
    "lista_produtos"
   ]
  },
  {
   "cell_type": "code",
   "execution_count": 44,
   "metadata": {},
   "outputs": [
    {
     "data": {
      "text/plain": [
       "['R$ 519,00',\n",
       " 'R$ 419,00',\n",
       " 'R$ 449,73 em 9x de R$ 49,97 sem juros',\n",
       " 'R$ 519,00',\n",
       " 'R$ 388,88',\n",
       " 'R$ 449,73 em 9x de R$ 49,97 sem juros',\n",
       " 'R$ 469,90',\n",
       " 'R$ 469,90',\n",
       " 'R$ 469,90',\n",
       " 'R$ 189,90',\n",
       " 'R$ 1.098,90',\n",
       " 'R$ 419,00',\n",
       " 'R$ 1.098,90',\n",
       " 'R$ 419,00',\n",
       " 'R$ 499,00',\n",
       " 'R$ 149,90',\n",
       " 'R$ 209,99 em 4x de R$ 52,50 sem juros',\n",
       " 'R$ 359,90',\n",
       " 'R$ 444,00',\n",
       " 'R$ 611,10',\n",
       " 'R$ 1.098,90',\n",
       " 'R$ 519,00',\n",
       " 'R$ 114,90 em 2x de R$ 57,45 sem juros',\n",
       " 'R$ 359,90',\n",
       " 'R$ 429,90',\n",
       " 'R$ 140,50',\n",
       " 'R$ 310,00',\n",
       " 'R$ 299,00']"
      ]
     },
     "execution_count": 44,
     "metadata": {},
     "output_type": "execute_result"
    }
   ],
   "source": [
    "lista_precos"
   ]
  },
  {
   "cell_type": "code",
   "execution_count": 45,
   "metadata": {},
   "outputs": [
    {
     "data": {
      "text/html": [
       "<div>\n",
       "<style scoped>\n",
       "    .dataframe tbody tr th:only-of-type {\n",
       "        vertical-align: middle;\n",
       "    }\n",
       "\n",
       "    .dataframe tbody tr th {\n",
       "        vertical-align: top;\n",
       "    }\n",
       "\n",
       "    .dataframe thead th {\n",
       "        text-align: right;\n",
       "    }\n",
       "</style>\n",
       "<table border=\"1\" class=\"dataframe\">\n",
       "  <thead>\n",
       "    <tr style=\"text-align: right;\">\n",
       "      <th></th>\n",
       "      <th>produto</th>\n",
       "    </tr>\n",
       "  </thead>\n",
       "  <tbody>\n",
       "    <tr>\n",
       "      <th>0</th>\n",
       "      <td>Echo Dot 5ª Geração Smart Speaker com Alexa</td>\n",
       "    </tr>\n",
       "    <tr>\n",
       "      <th>1</th>\n",
       "      <td>Echo Pop Compacto Smart Speaker com Alexa</td>\n",
       "    </tr>\n",
       "    <tr>\n",
       "      <th>2</th>\n",
       "      <td>Echo Dot 5ª geração Amazon, com Alexa, Smart S...</td>\n",
       "    </tr>\n",
       "    <tr>\n",
       "      <th>3</th>\n",
       "      <td>Echo Dot 5ª Geração Smart Speaker com Alexa</td>\n",
       "    </tr>\n",
       "    <tr>\n",
       "      <th>4</th>\n",
       "      <td>Echo Pop Amazon, com Alexa, Smart Speaker, Som...</td>\n",
       "    </tr>\n",
       "    <tr>\n",
       "      <th>5</th>\n",
       "      <td>Echo Dot 5ª geração Amazon, com Alexa, Smart S...</td>\n",
       "    </tr>\n",
       "    <tr>\n",
       "      <th>6</th>\n",
       "      <td>Alexa 5ª Geração Echo Dot Smart Speaker alto-f...</td>\n",
       "    </tr>\n",
       "    <tr>\n",
       "      <th>7</th>\n",
       "      <td>Alexa 5ª Geração Echo Dot Smart Speaker alto-f...</td>\n",
       "    </tr>\n",
       "    <tr>\n",
       "      <th>8</th>\n",
       "      <td>Alexa 5ª Geração Echo Dot Smart Speaker alto-f...</td>\n",
       "    </tr>\n",
       "    <tr>\n",
       "      <th>9</th>\n",
       "      <td>Lixeira Automatica Com Sensor de Aproximacao B...</td>\n",
       "    </tr>\n",
       "    <tr>\n",
       "      <th>10</th>\n",
       "      <td>Echo Spot 2024 Smart Speaker Tela de 2,83”</td>\n",
       "    </tr>\n",
       "    <tr>\n",
       "      <th>11</th>\n",
       "      <td>Echo Pop Smart Speaker Compacto com Alexa</td>\n",
       "    </tr>\n",
       "    <tr>\n",
       "      <th>12</th>\n",
       "      <td>Echo Spot 2024 Smart Speaker Tela de 2,83”</td>\n",
       "    </tr>\n",
       "    <tr>\n",
       "      <th>13</th>\n",
       "      <td>Echo Pop Compacto Smart Speaker com Alexa</td>\n",
       "    </tr>\n",
       "    <tr>\n",
       "      <th>14</th>\n",
       "      <td>Fechadura Digital Eletronica Biometrica Com Wi...</td>\n",
       "    </tr>\n",
       "    <tr>\n",
       "      <th>15</th>\n",
       "      <td>Câmera Interna Inteligente Full HD Wi-Fi Multi...</td>\n",
       "    </tr>\n",
       "    <tr>\n",
       "      <th>16</th>\n",
       "      <td>Câmera De Segurança Smart Wi-fi Ip66 Dupla Len...</td>\n",
       "    </tr>\n",
       "    <tr>\n",
       "      <th>17</th>\n",
       "      <td>Amazon Alexa Echo Pop Branco</td>\n",
       "    </tr>\n",
       "    <tr>\n",
       "      <th>18</th>\n",
       "      <td>Fechadura Eletrônica Digital Touch FR 101 Inte...</td>\n",
       "    </tr>\n",
       "    <tr>\n",
       "      <th>19</th>\n",
       "      <td>Echo Spot Amazon, Com Alexa, Som envolvente, C...</td>\n",
       "    </tr>\n",
       "    <tr>\n",
       "      <th>20</th>\n",
       "      <td>Echo Spot 2024 Smart Speaker Tela de 2,83”</td>\n",
       "    </tr>\n",
       "    <tr>\n",
       "      <th>21</th>\n",
       "      <td>Echo Dot 5ª Geração Smart Speaker com Alexa</td>\n",
       "    </tr>\n",
       "    <tr>\n",
       "      <th>22</th>\n",
       "      <td>Camera Robo 3 Antenas Ip Wifi 360 1080P</td>\n",
       "    </tr>\n",
       "    <tr>\n",
       "      <th>23</th>\n",
       "      <td>Lampada Inteligente Rgb Wifi Led Smart Google ...</td>\n",
       "    </tr>\n",
       "    <tr>\n",
       "      <th>24</th>\n",
       "      <td>pAmazon Alexa Echo Pop C2H4R9 Pretobr/p</td>\n",
       "    </tr>\n",
       "    <tr>\n",
       "      <th>25</th>\n",
       "      <td>Fechadura Digital Eletronica Com Biometria Tou...</td>\n",
       "    </tr>\n",
       "    <tr>\n",
       "      <th>26</th>\n",
       "      <td>Câmera de Segurança Smart Wifi Lampada Led Mon...</td>\n",
       "    </tr>\n",
       "    <tr>\n",
       "      <th>27</th>\n",
       "      <td>Câmera Inteligente Intelbras iM4 Full HD 360º ...</td>\n",
       "    </tr>\n",
       "    <tr>\n",
       "      <th>28</th>\n",
       "      <td>Câmera Inteligente Intelbras iM3 Full Hd Wifi</td>\n",
       "    </tr>\n",
       "  </tbody>\n",
       "</table>\n",
       "</div>"
      ],
      "text/plain": [
       "                                              produto\n",
       "0         Echo Dot 5ª Geração Smart Speaker com Alexa\n",
       "1           Echo Pop Compacto Smart Speaker com Alexa\n",
       "2   Echo Dot 5ª geração Amazon, com Alexa, Smart S...\n",
       "3         Echo Dot 5ª Geração Smart Speaker com Alexa\n",
       "4   Echo Pop Amazon, com Alexa, Smart Speaker, Som...\n",
       "5   Echo Dot 5ª geração Amazon, com Alexa, Smart S...\n",
       "6   Alexa 5ª Geração Echo Dot Smart Speaker alto-f...\n",
       "7   Alexa 5ª Geração Echo Dot Smart Speaker alto-f...\n",
       "8   Alexa 5ª Geração Echo Dot Smart Speaker alto-f...\n",
       "9   Lixeira Automatica Com Sensor de Aproximacao B...\n",
       "10         Echo Spot 2024 Smart Speaker Tela de 2,83”\n",
       "11          Echo Pop Smart Speaker Compacto com Alexa\n",
       "12         Echo Spot 2024 Smart Speaker Tela de 2,83”\n",
       "13          Echo Pop Compacto Smart Speaker com Alexa\n",
       "14  Fechadura Digital Eletronica Biometrica Com Wi...\n",
       "15  Câmera Interna Inteligente Full HD Wi-Fi Multi...\n",
       "16  Câmera De Segurança Smart Wi-fi Ip66 Dupla Len...\n",
       "17                       Amazon Alexa Echo Pop Branco\n",
       "18  Fechadura Eletrônica Digital Touch FR 101 Inte...\n",
       "19  Echo Spot Amazon, Com Alexa, Som envolvente, C...\n",
       "20         Echo Spot 2024 Smart Speaker Tela de 2,83”\n",
       "21        Echo Dot 5ª Geração Smart Speaker com Alexa\n",
       "22            Camera Robo 3 Antenas Ip Wifi 360 1080P\n",
       "23  Lampada Inteligente Rgb Wifi Led Smart Google ...\n",
       "24            pAmazon Alexa Echo Pop C2H4R9 Pretobr/p\n",
       "25  Fechadura Digital Eletronica Com Biometria Tou...\n",
       "26  Câmera de Segurança Smart Wifi Lampada Led Mon...\n",
       "27  Câmera Inteligente Intelbras iM4 Full HD 360º ...\n",
       "28      Câmera Inteligente Intelbras iM3 Full Hd Wifi"
      ]
     },
     "execution_count": 45,
     "metadata": {},
     "output_type": "execute_result"
    }
   ],
   "source": [
    "import pandas as pd\n",
    "tabela1 = pd.DataFrame(lista_produtos, columns=['produto'])\n",
    "tabela1"
   ]
  },
  {
   "cell_type": "code",
   "execution_count": 46,
   "metadata": {},
   "outputs": [
    {
     "data": {
      "text/html": [
       "<div>\n",
       "<style scoped>\n",
       "    .dataframe tbody tr th:only-of-type {\n",
       "        vertical-align: middle;\n",
       "    }\n",
       "\n",
       "    .dataframe tbody tr th {\n",
       "        vertical-align: top;\n",
       "    }\n",
       "\n",
       "    .dataframe thead th {\n",
       "        text-align: right;\n",
       "    }\n",
       "</style>\n",
       "<table border=\"1\" class=\"dataframe\">\n",
       "  <thead>\n",
       "    <tr style=\"text-align: right;\">\n",
       "      <th></th>\n",
       "      <th>precos</th>\n",
       "    </tr>\n",
       "  </thead>\n",
       "  <tbody>\n",
       "    <tr>\n",
       "      <th>0</th>\n",
       "      <td>R$ 519,00</td>\n",
       "    </tr>\n",
       "    <tr>\n",
       "      <th>1</th>\n",
       "      <td>R$ 419,00</td>\n",
       "    </tr>\n",
       "    <tr>\n",
       "      <th>2</th>\n",
       "      <td>R$ 449,73 em 9x de R$ 49,97 sem juros</td>\n",
       "    </tr>\n",
       "    <tr>\n",
       "      <th>3</th>\n",
       "      <td>R$ 519,00</td>\n",
       "    </tr>\n",
       "    <tr>\n",
       "      <th>4</th>\n",
       "      <td>R$ 388,88</td>\n",
       "    </tr>\n",
       "    <tr>\n",
       "      <th>5</th>\n",
       "      <td>R$ 449,73 em 9x de R$ 49,97 sem juros</td>\n",
       "    </tr>\n",
       "    <tr>\n",
       "      <th>6</th>\n",
       "      <td>R$ 469,90</td>\n",
       "    </tr>\n",
       "    <tr>\n",
       "      <th>7</th>\n",
       "      <td>R$ 469,90</td>\n",
       "    </tr>\n",
       "    <tr>\n",
       "      <th>8</th>\n",
       "      <td>R$ 469,90</td>\n",
       "    </tr>\n",
       "    <tr>\n",
       "      <th>9</th>\n",
       "      <td>R$ 189,90</td>\n",
       "    </tr>\n",
       "    <tr>\n",
       "      <th>10</th>\n",
       "      <td>R$ 1.098,90</td>\n",
       "    </tr>\n",
       "    <tr>\n",
       "      <th>11</th>\n",
       "      <td>R$ 419,00</td>\n",
       "    </tr>\n",
       "    <tr>\n",
       "      <th>12</th>\n",
       "      <td>R$ 1.098,90</td>\n",
       "    </tr>\n",
       "    <tr>\n",
       "      <th>13</th>\n",
       "      <td>R$ 419,00</td>\n",
       "    </tr>\n",
       "    <tr>\n",
       "      <th>14</th>\n",
       "      <td>R$ 499,00</td>\n",
       "    </tr>\n",
       "    <tr>\n",
       "      <th>15</th>\n",
       "      <td>R$ 149,90</td>\n",
       "    </tr>\n",
       "    <tr>\n",
       "      <th>16</th>\n",
       "      <td>R$ 209,99 em 4x de R$ 52,50 sem juros</td>\n",
       "    </tr>\n",
       "    <tr>\n",
       "      <th>17</th>\n",
       "      <td>R$ 359,90</td>\n",
       "    </tr>\n",
       "    <tr>\n",
       "      <th>18</th>\n",
       "      <td>R$ 444,00</td>\n",
       "    </tr>\n",
       "    <tr>\n",
       "      <th>19</th>\n",
       "      <td>R$ 611,10</td>\n",
       "    </tr>\n",
       "    <tr>\n",
       "      <th>20</th>\n",
       "      <td>R$ 1.098,90</td>\n",
       "    </tr>\n",
       "    <tr>\n",
       "      <th>21</th>\n",
       "      <td>R$ 519,00</td>\n",
       "    </tr>\n",
       "    <tr>\n",
       "      <th>22</th>\n",
       "      <td>R$ 114,90 em 2x de R$ 57,45 sem juros</td>\n",
       "    </tr>\n",
       "    <tr>\n",
       "      <th>23</th>\n",
       "      <td>R$ 359,90</td>\n",
       "    </tr>\n",
       "    <tr>\n",
       "      <th>24</th>\n",
       "      <td>R$ 429,90</td>\n",
       "    </tr>\n",
       "    <tr>\n",
       "      <th>25</th>\n",
       "      <td>R$ 140,50</td>\n",
       "    </tr>\n",
       "    <tr>\n",
       "      <th>26</th>\n",
       "      <td>R$ 310,00</td>\n",
       "    </tr>\n",
       "    <tr>\n",
       "      <th>27</th>\n",
       "      <td>R$ 299,00</td>\n",
       "    </tr>\n",
       "  </tbody>\n",
       "</table>\n",
       "</div>"
      ],
      "text/plain": [
       "                                   precos\n",
       "0                               R$ 519,00\n",
       "1                               R$ 419,00\n",
       "2   R$ 449,73 em 9x de R$ 49,97 sem juros\n",
       "3                               R$ 519,00\n",
       "4                               R$ 388,88\n",
       "5   R$ 449,73 em 9x de R$ 49,97 sem juros\n",
       "6                               R$ 469,90\n",
       "7                               R$ 469,90\n",
       "8                               R$ 469,90\n",
       "9                               R$ 189,90\n",
       "10                            R$ 1.098,90\n",
       "11                              R$ 419,00\n",
       "12                            R$ 1.098,90\n",
       "13                              R$ 419,00\n",
       "14                              R$ 499,00\n",
       "15                              R$ 149,90\n",
       "16  R$ 209,99 em 4x de R$ 52,50 sem juros\n",
       "17                              R$ 359,90\n",
       "18                              R$ 444,00\n",
       "19                              R$ 611,10\n",
       "20                            R$ 1.098,90\n",
       "21                              R$ 519,00\n",
       "22  R$ 114,90 em 2x de R$ 57,45 sem juros\n",
       "23                              R$ 359,90\n",
       "24                              R$ 429,90\n",
       "25                              R$ 140,50\n",
       "26                              R$ 310,00\n",
       "27                              R$ 299,00"
      ]
     },
     "execution_count": 46,
     "metadata": {},
     "output_type": "execute_result"
    }
   ],
   "source": [
    "tabela2 = pd.DataFrame(lista_precos, columns=['precos'])\n",
    "tabela2"
   ]
  },
  {
   "cell_type": "code",
   "execution_count": 47,
   "metadata": {},
   "outputs": [],
   "source": [
    "df = pd.concat([tabela1, tabela2], axis=1)"
   ]
  },
  {
   "cell_type": "code",
   "execution_count": 48,
   "metadata": {},
   "outputs": [],
   "source": [
    "df['preco2']=df.precos.str.replace('sem juros', ' ').str.replace(' ,', ',').str.replace(', ', ',').str.replace('R$ ', '').str.split(' ').str.get(0).str.replace(',',';').str.replace('.','').str.replace(';', '.')"
   ]
  },
  {
   "cell_type": "code",
   "execution_count": 49,
   "metadata": {},
   "outputs": [],
   "source": [
    "df=df.drop(columns=['precos'])"
   ]
  },
  {
   "cell_type": "code",
   "execution_count": 50,
   "metadata": {},
   "outputs": [],
   "source": [
    "tabela1 = pd.DataFrame(lista_produtos, columns=['produto'])\n",
    "tabela2 = pd.DataFrame(lista_precos, columns=['precos2'])\n"
   ]
  },
  {
   "cell_type": "code",
   "execution_count": 51,
   "metadata": {},
   "outputs": [
    {
     "data": {
      "text/html": [
       "<div>\n",
       "<style scoped>\n",
       "    .dataframe tbody tr th:only-of-type {\n",
       "        vertical-align: middle;\n",
       "    }\n",
       "\n",
       "    .dataframe tbody tr th {\n",
       "        vertical-align: top;\n",
       "    }\n",
       "\n",
       "    .dataframe thead th {\n",
       "        text-align: right;\n",
       "    }\n",
       "</style>\n",
       "<table border=\"1\" class=\"dataframe\">\n",
       "  <thead>\n",
       "    <tr style=\"text-align: right;\">\n",
       "      <th></th>\n",
       "      <th>precos2</th>\n",
       "    </tr>\n",
       "  </thead>\n",
       "  <tbody>\n",
       "    <tr>\n",
       "      <th>0</th>\n",
       "      <td>R$ 519,00</td>\n",
       "    </tr>\n",
       "    <tr>\n",
       "      <th>1</th>\n",
       "      <td>R$ 419,00</td>\n",
       "    </tr>\n",
       "    <tr>\n",
       "      <th>2</th>\n",
       "      <td>R$ 449,73 em 9x de R$ 49,97 sem juros</td>\n",
       "    </tr>\n",
       "    <tr>\n",
       "      <th>3</th>\n",
       "      <td>R$ 519,00</td>\n",
       "    </tr>\n",
       "    <tr>\n",
       "      <th>4</th>\n",
       "      <td>R$ 388,88</td>\n",
       "    </tr>\n",
       "    <tr>\n",
       "      <th>5</th>\n",
       "      <td>R$ 449,73 em 9x de R$ 49,97 sem juros</td>\n",
       "    </tr>\n",
       "    <tr>\n",
       "      <th>6</th>\n",
       "      <td>R$ 469,90</td>\n",
       "    </tr>\n",
       "    <tr>\n",
       "      <th>7</th>\n",
       "      <td>R$ 469,90</td>\n",
       "    </tr>\n",
       "    <tr>\n",
       "      <th>8</th>\n",
       "      <td>R$ 469,90</td>\n",
       "    </tr>\n",
       "    <tr>\n",
       "      <th>9</th>\n",
       "      <td>R$ 189,90</td>\n",
       "    </tr>\n",
       "    <tr>\n",
       "      <th>10</th>\n",
       "      <td>R$ 1.098,90</td>\n",
       "    </tr>\n",
       "    <tr>\n",
       "      <th>11</th>\n",
       "      <td>R$ 419,00</td>\n",
       "    </tr>\n",
       "    <tr>\n",
       "      <th>12</th>\n",
       "      <td>R$ 1.098,90</td>\n",
       "    </tr>\n",
       "    <tr>\n",
       "      <th>13</th>\n",
       "      <td>R$ 419,00</td>\n",
       "    </tr>\n",
       "    <tr>\n",
       "      <th>14</th>\n",
       "      <td>R$ 499,00</td>\n",
       "    </tr>\n",
       "    <tr>\n",
       "      <th>15</th>\n",
       "      <td>R$ 149,90</td>\n",
       "    </tr>\n",
       "    <tr>\n",
       "      <th>16</th>\n",
       "      <td>R$ 209,99 em 4x de R$ 52,50 sem juros</td>\n",
       "    </tr>\n",
       "    <tr>\n",
       "      <th>17</th>\n",
       "      <td>R$ 359,90</td>\n",
       "    </tr>\n",
       "    <tr>\n",
       "      <th>18</th>\n",
       "      <td>R$ 444,00</td>\n",
       "    </tr>\n",
       "    <tr>\n",
       "      <th>19</th>\n",
       "      <td>R$ 611,10</td>\n",
       "    </tr>\n",
       "    <tr>\n",
       "      <th>20</th>\n",
       "      <td>R$ 1.098,90</td>\n",
       "    </tr>\n",
       "    <tr>\n",
       "      <th>21</th>\n",
       "      <td>R$ 519,00</td>\n",
       "    </tr>\n",
       "    <tr>\n",
       "      <th>22</th>\n",
       "      <td>R$ 114,90 em 2x de R$ 57,45 sem juros</td>\n",
       "    </tr>\n",
       "    <tr>\n",
       "      <th>23</th>\n",
       "      <td>R$ 359,90</td>\n",
       "    </tr>\n",
       "    <tr>\n",
       "      <th>24</th>\n",
       "      <td>R$ 429,90</td>\n",
       "    </tr>\n",
       "    <tr>\n",
       "      <th>25</th>\n",
       "      <td>R$ 140,50</td>\n",
       "    </tr>\n",
       "    <tr>\n",
       "      <th>26</th>\n",
       "      <td>R$ 310,00</td>\n",
       "    </tr>\n",
       "    <tr>\n",
       "      <th>27</th>\n",
       "      <td>R$ 299,00</td>\n",
       "    </tr>\n",
       "  </tbody>\n",
       "</table>\n",
       "</div>"
      ],
      "text/plain": [
       "                                  precos2\n",
       "0                               R$ 519,00\n",
       "1                               R$ 419,00\n",
       "2   R$ 449,73 em 9x de R$ 49,97 sem juros\n",
       "3                               R$ 519,00\n",
       "4                               R$ 388,88\n",
       "5   R$ 449,73 em 9x de R$ 49,97 sem juros\n",
       "6                               R$ 469,90\n",
       "7                               R$ 469,90\n",
       "8                               R$ 469,90\n",
       "9                               R$ 189,90\n",
       "10                            R$ 1.098,90\n",
       "11                              R$ 419,00\n",
       "12                            R$ 1.098,90\n",
       "13                              R$ 419,00\n",
       "14                              R$ 499,00\n",
       "15                              R$ 149,90\n",
       "16  R$ 209,99 em 4x de R$ 52,50 sem juros\n",
       "17                              R$ 359,90\n",
       "18                              R$ 444,00\n",
       "19                              R$ 611,10\n",
       "20                            R$ 1.098,90\n",
       "21                              R$ 519,00\n",
       "22  R$ 114,90 em 2x de R$ 57,45 sem juros\n",
       "23                              R$ 359,90\n",
       "24                              R$ 429,90\n",
       "25                              R$ 140,50\n",
       "26                              R$ 310,00\n",
       "27                              R$ 299,00"
      ]
     },
     "execution_count": 51,
     "metadata": {},
     "output_type": "execute_result"
    }
   ],
   "source": [
    "tabela1\n",
    "tabela2\n"
   ]
  },
  {
   "cell_type": "code",
   "execution_count": null,
   "metadata": {},
   "outputs": [],
   "source": []
  },
  {
   "cell_type": "code",
   "execution_count": 23,
   "metadata": {},
   "outputs": [],
   "source": [
    "# df = pd.concat([tabela1, tabela2], axis=1)"
   ]
  },
  {
   "cell_type": "code",
   "execution_count": 52,
   "metadata": {},
   "outputs": [],
   "source": [
    "df.to_csv('produtos_e_precos.csv', index=False)"
   ]
  },
  {
   "cell_type": "code",
   "execution_count": 25,
   "metadata": {},
   "outputs": [],
   "source": [
    "#tabela1.to_csv('produtos.csv', index=False)\n",
    "#tabela2.to_csv('precos.csv', index=False)\n",
    "\n",
    "#tabela1\n",
    "#tabela2\n"
   ]
  },
  {
   "cell_type": "code",
   "execution_count": 53,
   "metadata": {},
   "outputs": [
    {
     "name": "stdout",
     "output_type": "stream",
     "text": [
      "                                              produto   preco2\n",
      "0         Echo Dot 5ª Geração Smart Speaker com Alexa   519.00\n",
      "1           Echo Pop Compacto Smart Speaker com Alexa   419.00\n",
      "2   Echo Dot 5ª geração Amazon, com Alexa, Smart S...   449.73\n",
      "3         Echo Dot 5ª Geração Smart Speaker com Alexa   519.00\n",
      "4   Echo Pop Amazon, com Alexa, Smart Speaker, Som...   388.88\n",
      "5   Echo Dot 5ª geração Amazon, com Alexa, Smart S...   449.73\n",
      "6   Alexa 5ª Geração Echo Dot Smart Speaker alto-f...   469.90\n",
      "7   Alexa 5ª Geração Echo Dot Smart Speaker alto-f...   469.90\n",
      "8   Alexa 5ª Geração Echo Dot Smart Speaker alto-f...   469.90\n",
      "9   Lixeira Automatica Com Sensor de Aproximacao B...   189.90\n",
      "10         Echo Spot 2024 Smart Speaker Tela de 2,83”  1098.90\n",
      "11          Echo Pop Smart Speaker Compacto com Alexa   419.00\n",
      "12         Echo Spot 2024 Smart Speaker Tela de 2,83”  1098.90\n",
      "13          Echo Pop Compacto Smart Speaker com Alexa   419.00\n",
      "14  Fechadura Digital Eletronica Biometrica Com Wi...   499.00\n",
      "15  Câmera Interna Inteligente Full HD Wi-Fi Multi...   149.90\n",
      "16  Câmera De Segurança Smart Wi-fi Ip66 Dupla Len...   209.99\n",
      "17                       Amazon Alexa Echo Pop Branco   359.90\n",
      "18  Fechadura Eletrônica Digital Touch FR 101 Inte...   444.00\n",
      "19  Echo Spot Amazon, Com Alexa, Som envolvente, C...   611.10\n",
      "20         Echo Spot 2024 Smart Speaker Tela de 2,83”  1098.90\n",
      "21        Echo Dot 5ª Geração Smart Speaker com Alexa   519.00\n",
      "22            Camera Robo 3 Antenas Ip Wifi 360 1080P   114.90\n",
      "23  Lampada Inteligente Rgb Wifi Led Smart Google ...   359.90\n",
      "24            pAmazon Alexa Echo Pop C2H4R9 Pretobr/p   429.90\n",
      "25  Fechadura Digital Eletronica Com Biometria Tou...   140.50\n",
      "26  Câmera de Segurança Smart Wifi Lampada Led Mon...   310.00\n",
      "27  Câmera Inteligente Intelbras iM4 Full HD 360º ...   299.00\n",
      "28      Câmera Inteligente Intelbras iM3 Full Hd Wifi      NaN\n"
     ]
    }
   ],
   "source": [
    "print(df)\n"
   ]
  },
  {
   "cell_type": "code",
   "execution_count": 54,
   "metadata": {},
   "outputs": [],
   "source": [
    "from sqlalchemy import create_engine \n",
    "engine = create_engine('sqlite:///banco.db', echo=True)"
   ]
  },
  {
   "cell_type": "code",
   "execution_count": 55,
   "metadata": {},
   "outputs": [
    {
     "name": "stdout",
     "output_type": "stream",
     "text": [
      "2024-11-24 11:44:00,545 INFO sqlalchemy.engine.Engine BEGIN (implicit)\n",
      "2024-11-24 11:44:00,547 INFO sqlalchemy.engine.Engine PRAGMA main.table_info(\"dados\")\n",
      "2024-11-24 11:44:00,549 INFO sqlalchemy.engine.Engine [raw sql] ()\n",
      "2024-11-24 11:44:00,552 INFO sqlalchemy.engine.Engine PRAGMA temp.table_info(\"dados\")\n",
      "2024-11-24 11:44:00,552 INFO sqlalchemy.engine.Engine [raw sql] ()\n",
      "2024-11-24 11:44:00,554 INFO sqlalchemy.engine.Engine \n",
      "CREATE TABLE dados (\n",
      "\tproduto TEXT, \n",
      "\tpreco2 TEXT\n",
      ")\n",
      "\n",
      "\n",
      "2024-11-24 11:44:00,554 INFO sqlalchemy.engine.Engine [no key 0.00066s] ()\n",
      "2024-11-24 11:44:00,568 INFO sqlalchemy.engine.Engine INSERT INTO dados (produto, preco2) VALUES (?, ?)\n",
      "2024-11-24 11:44:00,570 INFO sqlalchemy.engine.Engine [generated in 0.00150s] [('Echo Dot 5ª Geração Smart Speaker com Alexa', '519.00'), ('Echo Pop Compacto Smart Speaker com Alexa', '419.00'), ('Echo Dot 5ª geração Amazon, com Alexa, Smart Speaker, Preto - B09B8VGCR8', '449.73'), ('Echo Dot 5ª Geração Smart Speaker com Alexa', '519.00'), ('Echo Pop Amazon, com Alexa, Smart Speaker, Som Envolvente, Preto - B09WXVH7WK', '388.88'), ('Echo Dot 5ª geração Amazon, com Alexa, Smart Speaker, Azul - B09B8QFYZ2', '449.73'), ('Alexa 5ª Geração Echo Dot Smart Speaker alto-falante inteligente com alexa', '469.90'), ('Alexa 5ª Geração Echo Dot Smart Speaker alto-falante inteligente com alexa', '469.90')  ... displaying 10 of 29 total bound parameter sets ...  ('Câmera Inteligente Intelbras iM4 Full HD 360º Wi-Fi', '299.00'), ('Câmera Inteligente Intelbras iM3 Full Hd Wifi', None)]\n",
      "2024-11-24 11:44:00,572 INFO sqlalchemy.engine.Engine COMMIT\n"
     ]
    },
    {
     "data": {
      "text/plain": [
       "29"
      ]
     },
     "execution_count": 55,
     "metadata": {},
     "output_type": "execute_result"
    }
   ],
   "source": [
    "df.to_sql('dados', con=engine, if_exists='replace', index=False)  "
   ]
  },
  {
   "cell_type": "code",
   "execution_count": 57,
   "metadata": {},
   "outputs": [
    {
     "name": "stdout",
     "output_type": "stream",
     "text": [
      "2024-11-24 11:46:27,428 INFO sqlalchemy.engine.Engine BEGIN (implicit)\n",
      "2024-11-24 11:46:27,429 INFO sqlalchemy.engine.Engine PRAGMA main.table_info(\"SELECT * FROM dados\")\n",
      "2024-11-24 11:46:27,430 INFO sqlalchemy.engine.Engine [raw sql] ()\n",
      "2024-11-24 11:46:27,431 INFO sqlalchemy.engine.Engine PRAGMA temp.table_info(\"SELECT * FROM dados\")\n",
      "2024-11-24 11:46:27,432 INFO sqlalchemy.engine.Engine [raw sql] ()\n",
      "2024-11-24 11:46:27,433 INFO sqlalchemy.engine.Engine SELECT * FROM dados\n",
      "2024-11-24 11:46:27,434 INFO sqlalchemy.engine.Engine [raw sql] ()\n",
      "2024-11-24 11:46:27,438 INFO sqlalchemy.engine.Engine ROLLBACK\n"
     ]
    }
   ],
   "source": [
    "\n",
    "df_lido = pd.read_sql('SELECT * FROM dados', con=engine)"
   ]
  }
 ],
 "metadata": {
  "kernelspec": {
   "display_name": "Python 3",
   "language": "python",
   "name": "python3"
  },
  "language_info": {
   "codemirror_mode": {
    "name": "ipython",
    "version": 3
   },
   "file_extension": ".py",
   "mimetype": "text/x-python",
   "name": "python",
   "nbconvert_exporter": "python",
   "pygments_lexer": "ipython3",
   "version": "3.12.7"
  }
 },
 "nbformat": 4,
 "nbformat_minor": 2
}
